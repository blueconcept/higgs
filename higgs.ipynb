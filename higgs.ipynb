{
 "metadata": {
  "name": "",
  "signature": "sha256:ad3ea4c20d149f3c8dcbee2c30d7f6775ba5509ab8668168f527b7f52edfd2c1"
 },
 "nbformat": 3,
 "nbformat_minor": 0,
 "worksheets": [
  {
   "cells": [
    {
     "cell_type": "code",
     "collapsed": false,
     "input": [
      "ls"
     ],
     "language": "python",
     "metadata": {},
     "outputs": [
      {
       "output_type": "stream",
       "stream": "stdout",
       "text": [
        "HiggsBosonCompetition_AMSMetric_rev1.py  \u001b[31mrandom_submission.csv\u001b[m\u001b[m*                   \u001b[31mtraining.csv\u001b[m\u001b[m*\r\n",
        "Untitled0.ipynb                          \u001b[31mtest.csv\u001b[m\u001b[m*\r\n"
       ]
      }
     ],
     "prompt_number": 1
    },
    {
     "cell_type": "markdown",
     "metadata": {},
     "source": [
      "## Weight > 0.03 = Background\n",
      "## Multiply weight by label (s=1, b=-1)\n",
      "## Scale X\n"
     ]
    },
    {
     "cell_type": "code",
     "collapsed": false,
     "input": [
      "import pandas as pd\n",
      "import numpy as np\n",
      "from sklearn.ensemble import RandomForestClassifier, RandomForestRegressor\n",
      "from sklearn.dummy import DummyClassifier\n",
      "from sklearn.svm import SVC\n",
      "from sklearn.linear_model import LogisticRegression as LR\n",
      "from sklearn.preprocessing import scale\n",
      "from sklearn.cross_validation import train_test_split, cross_val_score\n",
      "import matplotlib.pyplot as plt\n",
      "%pylab inline"
     ],
     "language": "python",
     "metadata": {},
     "outputs": [
      {
       "output_type": "stream",
       "stream": "stdout",
       "text": [
        "Populating the interactive namespace from numpy and matplotlib\n"
       ]
      }
     ],
     "prompt_number": 61
    },
    {
     "cell_type": "code",
     "collapsed": false,
     "input": [
      "train = pd.read_csv('training.csv')"
     ],
     "language": "python",
     "metadata": {},
     "outputs": [],
     "prompt_number": 64
    },
    {
     "cell_type": "code",
     "collapsed": false,
     "input": [
      "train.head()"
     ],
     "language": "python",
     "metadata": {},
     "outputs": [
      {
       "html": [
        "<div style=\"max-height:1000px;max-width:1500px;overflow:auto;\">\n",
        "<table border=\"1\" class=\"dataframe\">\n",
        "  <thead>\n",
        "    <tr style=\"text-align: right;\">\n",
        "      <th></th>\n",
        "      <th>EventId</th>\n",
        "      <th>DER_mass_MMC</th>\n",
        "      <th>DER_mass_transverse_met_lep</th>\n",
        "      <th>DER_mass_vis</th>\n",
        "      <th>DER_pt_h</th>\n",
        "      <th>DER_deltaeta_jet_jet</th>\n",
        "      <th>DER_mass_jet_jet</th>\n",
        "      <th>DER_prodeta_jet_jet</th>\n",
        "      <th>DER_deltar_tau_lep</th>\n",
        "      <th>DER_pt_tot</th>\n",
        "      <th>DER_sum_pt</th>\n",
        "      <th>DER_pt_ratio_lep_tau</th>\n",
        "      <th>DER_met_phi_centrality</th>\n",
        "      <th>DER_lep_eta_centrality</th>\n",
        "      <th>PRI_tau_pt</th>\n",
        "      <th>PRI_tau_eta</th>\n",
        "      <th>PRI_tau_phi</th>\n",
        "      <th>PRI_lep_pt</th>\n",
        "      <th>PRI_lep_eta</th>\n",
        "      <th>PRI_lep_phi</th>\n",
        "      <th></th>\n",
        "    </tr>\n",
        "  </thead>\n",
        "  <tbody>\n",
        "    <tr>\n",
        "      <th>0</th>\n",
        "      <td> 100000</td>\n",
        "      <td> 138.470</td>\n",
        "      <td>  51.655</td>\n",
        "      <td>  97.827</td>\n",
        "      <td> 27.980</td>\n",
        "      <td>   0.91</td>\n",
        "      <td> 124.711</td>\n",
        "      <td>   2.666</td>\n",
        "      <td> 3.064</td>\n",
        "      <td> 41.928</td>\n",
        "      <td> 197.760</td>\n",
        "      <td> 1.582</td>\n",
        "      <td> 1.396</td>\n",
        "      <td>   0.2</td>\n",
        "      <td> 32.638</td>\n",
        "      <td> 1.017</td>\n",
        "      <td> 0.381</td>\n",
        "      <td>  51.626</td>\n",
        "      <td> 2.273</td>\n",
        "      <td>-2.414</td>\n",
        "      <td>...</td>\n",
        "    </tr>\n",
        "    <tr>\n",
        "      <th>1</th>\n",
        "      <td> 100001</td>\n",
        "      <td> 160.937</td>\n",
        "      <td>  68.768</td>\n",
        "      <td> 103.235</td>\n",
        "      <td> 48.146</td>\n",
        "      <td>-999.00</td>\n",
        "      <td>-999.000</td>\n",
        "      <td>-999.000</td>\n",
        "      <td> 3.473</td>\n",
        "      <td>  2.078</td>\n",
        "      <td> 125.157</td>\n",
        "      <td> 0.879</td>\n",
        "      <td> 1.414</td>\n",
        "      <td>-999.0</td>\n",
        "      <td> 42.014</td>\n",
        "      <td> 2.039</td>\n",
        "      <td>-3.011</td>\n",
        "      <td>  36.918</td>\n",
        "      <td> 0.501</td>\n",
        "      <td> 0.103</td>\n",
        "      <td>...</td>\n",
        "    </tr>\n",
        "    <tr>\n",
        "      <th>2</th>\n",
        "      <td> 100002</td>\n",
        "      <td>-999.000</td>\n",
        "      <td> 162.172</td>\n",
        "      <td> 125.953</td>\n",
        "      <td> 35.635</td>\n",
        "      <td>-999.00</td>\n",
        "      <td>-999.000</td>\n",
        "      <td>-999.000</td>\n",
        "      <td> 3.148</td>\n",
        "      <td>  9.336</td>\n",
        "      <td> 197.814</td>\n",
        "      <td> 3.776</td>\n",
        "      <td> 1.414</td>\n",
        "      <td>-999.0</td>\n",
        "      <td> 32.154</td>\n",
        "      <td>-0.705</td>\n",
        "      <td>-2.093</td>\n",
        "      <td> 121.409</td>\n",
        "      <td>-0.953</td>\n",
        "      <td> 1.052</td>\n",
        "      <td>...</td>\n",
        "    </tr>\n",
        "    <tr>\n",
        "      <th>3</th>\n",
        "      <td> 100003</td>\n",
        "      <td> 143.905</td>\n",
        "      <td>  81.417</td>\n",
        "      <td>  80.943</td>\n",
        "      <td>  0.414</td>\n",
        "      <td>-999.00</td>\n",
        "      <td>-999.000</td>\n",
        "      <td>-999.000</td>\n",
        "      <td> 3.310</td>\n",
        "      <td>  0.414</td>\n",
        "      <td>  75.968</td>\n",
        "      <td> 2.354</td>\n",
        "      <td>-1.285</td>\n",
        "      <td>-999.0</td>\n",
        "      <td> 22.647</td>\n",
        "      <td>-1.655</td>\n",
        "      <td> 0.010</td>\n",
        "      <td>  53.321</td>\n",
        "      <td>-0.522</td>\n",
        "      <td>-3.100</td>\n",
        "      <td>...</td>\n",
        "    </tr>\n",
        "    <tr>\n",
        "      <th>4</th>\n",
        "      <td> 100004</td>\n",
        "      <td> 175.864</td>\n",
        "      <td>  16.915</td>\n",
        "      <td> 134.805</td>\n",
        "      <td> 16.405</td>\n",
        "      <td>-999.00</td>\n",
        "      <td>-999.000</td>\n",
        "      <td>-999.000</td>\n",
        "      <td> 3.891</td>\n",
        "      <td> 16.405</td>\n",
        "      <td>  57.983</td>\n",
        "      <td> 1.056</td>\n",
        "      <td>-1.385</td>\n",
        "      <td>-999.0</td>\n",
        "      <td> 28.209</td>\n",
        "      <td>-2.197</td>\n",
        "      <td>-2.231</td>\n",
        "      <td>  29.774</td>\n",
        "      <td> 0.798</td>\n",
        "      <td> 1.569</td>\n",
        "      <td>...</td>\n",
        "    </tr>\n",
        "  </tbody>\n",
        "</table>\n",
        "<p>5 rows \u00d7 33 columns</p>\n",
        "</div>"
       ],
       "metadata": {},
       "output_type": "pyout",
       "prompt_number": 65,
       "text": [
        "   EventId  DER_mass_MMC  DER_mass_transverse_met_lep  DER_mass_vis  DER_pt_h  \\\n",
        "0   100000       138.470                       51.655        97.827    27.980   \n",
        "1   100001       160.937                       68.768       103.235    48.146   \n",
        "2   100002      -999.000                      162.172       125.953    35.635   \n",
        "3   100003       143.905                       81.417        80.943     0.414   \n",
        "4   100004       175.864                       16.915       134.805    16.405   \n",
        "\n",
        "   DER_deltaeta_jet_jet  DER_mass_jet_jet  DER_prodeta_jet_jet  \\\n",
        "0                  0.91           124.711                2.666   \n",
        "1               -999.00          -999.000             -999.000   \n",
        "2               -999.00          -999.000             -999.000   \n",
        "3               -999.00          -999.000             -999.000   \n",
        "4               -999.00          -999.000             -999.000   \n",
        "\n",
        "   DER_deltar_tau_lep  DER_pt_tot  DER_sum_pt  DER_pt_ratio_lep_tau  \\\n",
        "0               3.064      41.928     197.760                 1.582   \n",
        "1               3.473       2.078     125.157                 0.879   \n",
        "2               3.148       9.336     197.814                 3.776   \n",
        "3               3.310       0.414      75.968                 2.354   \n",
        "4               3.891      16.405      57.983                 1.056   \n",
        "\n",
        "   DER_met_phi_centrality  DER_lep_eta_centrality  PRI_tau_pt  PRI_tau_eta  \\\n",
        "0                   1.396                     0.2      32.638        1.017   \n",
        "1                   1.414                  -999.0      42.014        2.039   \n",
        "2                   1.414                  -999.0      32.154       -0.705   \n",
        "3                  -1.285                  -999.0      22.647       -1.655   \n",
        "4                  -1.385                  -999.0      28.209       -2.197   \n",
        "\n",
        "   PRI_tau_phi  PRI_lep_pt  PRI_lep_eta  PRI_lep_phi      \n",
        "0        0.381      51.626        2.273       -2.414 ...  \n",
        "1       -3.011      36.918        0.501        0.103 ...  \n",
        "2       -2.093     121.409       -0.953        1.052 ...  \n",
        "3        0.010      53.321       -0.522       -3.100 ...  \n",
        "4       -2.231      29.774        0.798        1.569 ...  \n",
        "\n",
        "[5 rows x 33 columns]"
       ]
      }
     ],
     "prompt_number": 65
    },
    {
     "cell_type": "code",
     "collapsed": false,
     "input": [
      "train.Label.value_counts()"
     ],
     "language": "python",
     "metadata": {},
     "outputs": [
      {
       "metadata": {},
       "output_type": "pyout",
       "prompt_number": 29,
       "text": [
        "b    164333\n",
        "s     85667\n",
        "dtype: int64"
       ]
      }
     ],
     "prompt_number": 29
    },
    {
     "cell_type": "code",
     "collapsed": false,
     "input": [
      "#b is background, s is signal\n",
      "y = (train['Label'] == 's').astype(int).values\n",
      "x = train[train.columns - ['Label', 'Weight']].set_index('EventId')\n",
      "#x = x.replace(-999., np.nan)\n",
      "#x.count(np.nan)\n",
      "#x_norm = scale(x)"
     ],
     "language": "python",
     "metadata": {},
     "outputs": [],
     "prompt_number": 68
    },
    {
     "cell_type": "code",
     "collapsed": false,
     "input": [
      "x.info()"
     ],
     "language": "python",
     "metadata": {},
     "outputs": [
      {
       "output_type": "stream",
       "stream": "stdout",
       "text": [
        "<class 'pandas.core.frame.DataFrame'>\n",
        "Int64Index: 250000 entries, 100000 to 349999\n",
        "Data columns (total 30 columns):\n",
        "DER_deltaeta_jet_jet           72543 non-null float64\n",
        "DER_deltar_tau_lep             250000 non-null float64\n",
        "DER_lep_eta_centrality         72543 non-null float64\n",
        "DER_mass_MMC                   211886 non-null float64\n",
        "DER_mass_jet_jet               72543 non-null float64\n",
        "DER_mass_transverse_met_lep    250000 non-null float64\n",
        "DER_mass_vis                   250000 non-null float64\n",
        "DER_met_phi_centrality         250000 non-null float64\n",
        "DER_prodeta_jet_jet            72543 non-null float64\n",
        "DER_pt_h                       250000 non-null float64\n",
        "DER_pt_ratio_lep_tau           250000 non-null float64\n",
        "DER_pt_tot                     250000 non-null float64\n",
        "DER_sum_pt                     250000 non-null float64\n",
        "PRI_jet_all_pt                 250000 non-null float64\n",
        "PRI_jet_leading_eta            150087 non-null float64\n",
        "PRI_jet_leading_phi            150087 non-null float64\n",
        "PRI_jet_leading_pt             150087 non-null float64\n",
        "PRI_jet_num                    250000 non-null int64\n",
        "PRI_jet_subleading_eta         72543 non-null float64\n",
        "PRI_jet_subleading_phi         72543 non-null float64\n",
        "PRI_jet_subleading_pt          72543 non-null float64\n",
        "PRI_lep_eta                    250000 non-null float64\n",
        "PRI_lep_phi                    250000 non-null float64\n",
        "PRI_lep_pt                     250000 non-null float64\n",
        "PRI_met                        250000 non-null float64\n",
        "PRI_met_phi                    250000 non-null float64\n",
        "PRI_met_sumet                  250000 non-null float64\n",
        "PRI_tau_eta                    250000 non-null float64\n",
        "PRI_tau_phi                    250000 non-null float64\n",
        "PRI_tau_pt                     250000 non-null float64\n",
        "dtypes: float64(29), int64(1)"
       ]
      }
     ],
     "prompt_number": 53
    },
    {
     "cell_type": "code",
     "collapsed": false,
     "input": [
      "higgs_rf = RandomForestClassifier(oob_score=True)\n",
      "higgs_rf.fit(x, y, sample_weight=)"
     ],
     "language": "python",
     "metadata": {},
     "outputs": [
      {
       "ename": "KeyboardInterrupt",
       "evalue": "",
       "output_type": "pyerr",
       "traceback": [
        "\u001b[0;31m---------------------------------------------------------------------------\u001b[0m\n\u001b[0;31mKeyboardInterrupt\u001b[0m                         Traceback (most recent call last)",
        "\u001b[0;32m<ipython-input-69-176d2813a0bc>\u001b[0m in \u001b[0;36m<module>\u001b[0;34m()\u001b[0m\n\u001b[1;32m      1\u001b[0m \u001b[0mhiggs_rf\u001b[0m \u001b[0;34m=\u001b[0m \u001b[0mRandomForestClassifier\u001b[0m\u001b[0;34m(\u001b[0m\u001b[0moob_score\u001b[0m\u001b[0;34m=\u001b[0m\u001b[0mTrue\u001b[0m\u001b[0;34m)\u001b[0m\u001b[0;34m\u001b[0m\u001b[0m\n\u001b[0;32m----> 2\u001b[0;31m \u001b[0mhiggs_rf\u001b[0m\u001b[0;34m.\u001b[0m\u001b[0mfit\u001b[0m\u001b[0;34m(\u001b[0m\u001b[0mx\u001b[0m\u001b[0;34m,\u001b[0m \u001b[0my\u001b[0m\u001b[0;34m)\u001b[0m\u001b[0;34m\u001b[0m\u001b[0m\n\u001b[0m\u001b[1;32m      3\u001b[0m \u001b[0mscrs_forest\u001b[0m \u001b[0;34m=\u001b[0m \u001b[0mcross_val_score\u001b[0m\u001b[0;34m(\u001b[0m\u001b[0mhiggs_rf\u001b[0m\u001b[0;34m,\u001b[0m \u001b[0mx\u001b[0m\u001b[0;34m,\u001b[0m \u001b[0my\u001b[0m\u001b[0;34m,\u001b[0m \u001b[0mscoring\u001b[0m\u001b[0;34m=\u001b[0m\u001b[0;34m'roc_auc'\u001b[0m\u001b[0;34m)\u001b[0m\u001b[0;34m\u001b[0m\u001b[0m\n",
        "\u001b[0;32m/Library/Python/2.7/site-packages/sklearn/ensemble/forest.pyc\u001b[0m in \u001b[0;36mfit\u001b[0;34m(self, X, y, sample_weight)\u001b[0m\n\u001b[1;32m    277\u001b[0m                 \u001b[0msample_weight\u001b[0m\u001b[0;34m,\u001b[0m\u001b[0;34m\u001b[0m\u001b[0m\n\u001b[1;32m    278\u001b[0m                 verbose=self.verbose)\n\u001b[0;32m--> 279\u001b[0;31m             for i in range(n_jobs))\n\u001b[0m\u001b[1;32m    280\u001b[0m \u001b[0;34m\u001b[0m\u001b[0m\n\u001b[1;32m    281\u001b[0m         \u001b[0;31m# Reduce\u001b[0m\u001b[0;34m\u001b[0m\u001b[0;34m\u001b[0m\u001b[0m\n",
        "\u001b[0;32m/Library/Python/2.7/site-packages/sklearn/externals/joblib/parallel.pyc\u001b[0m in \u001b[0;36m__call__\u001b[0;34m(self, iterable)\u001b[0m\n\u001b[1;32m    651\u001b[0m             \u001b[0mself\u001b[0m\u001b[0;34m.\u001b[0m\u001b[0m_iterating\u001b[0m \u001b[0;34m=\u001b[0m \u001b[0mTrue\u001b[0m\u001b[0;34m\u001b[0m\u001b[0m\n\u001b[1;32m    652\u001b[0m             \u001b[0;32mfor\u001b[0m \u001b[0mfunction\u001b[0m\u001b[0;34m,\u001b[0m \u001b[0margs\u001b[0m\u001b[0;34m,\u001b[0m \u001b[0mkwargs\u001b[0m \u001b[0;32min\u001b[0m \u001b[0miterable\u001b[0m\u001b[0;34m:\u001b[0m\u001b[0;34m\u001b[0m\u001b[0m\n\u001b[0;32m--> 653\u001b[0;31m                 \u001b[0mself\u001b[0m\u001b[0;34m.\u001b[0m\u001b[0mdispatch\u001b[0m\u001b[0;34m(\u001b[0m\u001b[0mfunction\u001b[0m\u001b[0;34m,\u001b[0m \u001b[0margs\u001b[0m\u001b[0;34m,\u001b[0m \u001b[0mkwargs\u001b[0m\u001b[0;34m)\u001b[0m\u001b[0;34m\u001b[0m\u001b[0m\n\u001b[0m\u001b[1;32m    654\u001b[0m \u001b[0;34m\u001b[0m\u001b[0m\n\u001b[1;32m    655\u001b[0m             \u001b[0;32mif\u001b[0m \u001b[0mpre_dispatch\u001b[0m \u001b[0;34m==\u001b[0m \u001b[0;34m\"all\"\u001b[0m \u001b[0;32mor\u001b[0m \u001b[0mn_jobs\u001b[0m \u001b[0;34m==\u001b[0m \u001b[0;36m1\u001b[0m\u001b[0;34m:\u001b[0m\u001b[0;34m\u001b[0m\u001b[0m\n",
        "\u001b[0;32m/Library/Python/2.7/site-packages/sklearn/externals/joblib/parallel.pyc\u001b[0m in \u001b[0;36mdispatch\u001b[0;34m(self, func, args, kwargs)\u001b[0m\n\u001b[1;32m    398\u001b[0m         \"\"\"\n\u001b[1;32m    399\u001b[0m         \u001b[0;32mif\u001b[0m \u001b[0mself\u001b[0m\u001b[0;34m.\u001b[0m\u001b[0m_pool\u001b[0m \u001b[0;32mis\u001b[0m \u001b[0mNone\u001b[0m\u001b[0;34m:\u001b[0m\u001b[0;34m\u001b[0m\u001b[0m\n\u001b[0;32m--> 400\u001b[0;31m             \u001b[0mjob\u001b[0m \u001b[0;34m=\u001b[0m \u001b[0mImmediateApply\u001b[0m\u001b[0;34m(\u001b[0m\u001b[0mfunc\u001b[0m\u001b[0;34m,\u001b[0m \u001b[0margs\u001b[0m\u001b[0;34m,\u001b[0m \u001b[0mkwargs\u001b[0m\u001b[0;34m)\u001b[0m\u001b[0;34m\u001b[0m\u001b[0m\n\u001b[0m\u001b[1;32m    401\u001b[0m             \u001b[0mindex\u001b[0m \u001b[0;34m=\u001b[0m \u001b[0mlen\u001b[0m\u001b[0;34m(\u001b[0m\u001b[0mself\u001b[0m\u001b[0;34m.\u001b[0m\u001b[0m_jobs\u001b[0m\u001b[0;34m)\u001b[0m\u001b[0;34m\u001b[0m\u001b[0m\n\u001b[1;32m    402\u001b[0m             \u001b[0;32mif\u001b[0m \u001b[0;32mnot\u001b[0m \u001b[0m_verbosity_filter\u001b[0m\u001b[0;34m(\u001b[0m\u001b[0mindex\u001b[0m\u001b[0;34m,\u001b[0m \u001b[0mself\u001b[0m\u001b[0;34m.\u001b[0m\u001b[0mverbose\u001b[0m\u001b[0;34m)\u001b[0m\u001b[0;34m:\u001b[0m\u001b[0;34m\u001b[0m\u001b[0m\n",
        "\u001b[0;32m/Library/Python/2.7/site-packages/sklearn/externals/joblib/parallel.pyc\u001b[0m in \u001b[0;36m__init__\u001b[0;34m(self, func, args, kwargs)\u001b[0m\n\u001b[1;32m    136\u001b[0m         \u001b[0;31m# Don't delay the application, to avoid keeping the input\u001b[0m\u001b[0;34m\u001b[0m\u001b[0;34m\u001b[0m\u001b[0m\n\u001b[1;32m    137\u001b[0m         \u001b[0;31m# arguments in memory\u001b[0m\u001b[0;34m\u001b[0m\u001b[0;34m\u001b[0m\u001b[0m\n\u001b[0;32m--> 138\u001b[0;31m         \u001b[0mself\u001b[0m\u001b[0;34m.\u001b[0m\u001b[0mresults\u001b[0m \u001b[0;34m=\u001b[0m \u001b[0mfunc\u001b[0m\u001b[0;34m(\u001b[0m\u001b[0;34m*\u001b[0m\u001b[0margs\u001b[0m\u001b[0;34m,\u001b[0m \u001b[0;34m**\u001b[0m\u001b[0mkwargs\u001b[0m\u001b[0;34m)\u001b[0m\u001b[0;34m\u001b[0m\u001b[0m\n\u001b[0m\u001b[1;32m    139\u001b[0m \u001b[0;34m\u001b[0m\u001b[0m\n\u001b[1;32m    140\u001b[0m     \u001b[0;32mdef\u001b[0m \u001b[0mget\u001b[0m\u001b[0;34m(\u001b[0m\u001b[0mself\u001b[0m\u001b[0;34m)\u001b[0m\u001b[0;34m:\u001b[0m\u001b[0;34m\u001b[0m\u001b[0m\n",
        "\u001b[0;32m/Library/Python/2.7/site-packages/sklearn/ensemble/forest.pyc\u001b[0m in \u001b[0;36m_parallel_build_trees\u001b[0;34m(trees, forest, X, y, sample_weight, verbose)\u001b[0m\n\u001b[1;32m     87\u001b[0m             tree.fit(X, y,\n\u001b[1;32m     88\u001b[0m                      \u001b[0msample_weight\u001b[0m\u001b[0;34m=\u001b[0m\u001b[0mcurr_sample_weight\u001b[0m\u001b[0;34m,\u001b[0m\u001b[0;34m\u001b[0m\u001b[0m\n\u001b[0;32m---> 89\u001b[0;31m                      check_input=False)\n\u001b[0m\u001b[1;32m     90\u001b[0m \u001b[0;34m\u001b[0m\u001b[0m\n\u001b[1;32m     91\u001b[0m             \u001b[0mtree\u001b[0m\u001b[0;34m.\u001b[0m\u001b[0mindices_\u001b[0m \u001b[0;34m=\u001b[0m \u001b[0msample_counts\u001b[0m \u001b[0;34m>\u001b[0m \u001b[0;36m0.\u001b[0m\u001b[0;34m\u001b[0m\u001b[0m\n",
        "\u001b[0;32m/Library/Python/2.7/site-packages/sklearn/tree/tree.pyc\u001b[0m in \u001b[0;36mfit\u001b[0;34m(self, X, y, sample_mask, X_argsorted, check_input, sample_weight)\u001b[0m\n\u001b[1;32m    265\u001b[0m                                            max_leaf_nodes)\n\u001b[1;32m    266\u001b[0m \u001b[0;34m\u001b[0m\u001b[0m\n\u001b[0;32m--> 267\u001b[0;31m         \u001b[0mbuilder\u001b[0m\u001b[0;34m.\u001b[0m\u001b[0mbuild\u001b[0m\u001b[0;34m(\u001b[0m\u001b[0mself\u001b[0m\u001b[0;34m.\u001b[0m\u001b[0mtree_\u001b[0m\u001b[0;34m,\u001b[0m \u001b[0mX\u001b[0m\u001b[0;34m,\u001b[0m \u001b[0my\u001b[0m\u001b[0;34m,\u001b[0m \u001b[0msample_weight\u001b[0m\u001b[0;34m)\u001b[0m\u001b[0;34m\u001b[0m\u001b[0m\n\u001b[0m\u001b[1;32m    268\u001b[0m \u001b[0;34m\u001b[0m\u001b[0m\n\u001b[1;32m    269\u001b[0m         \u001b[0;32mif\u001b[0m \u001b[0mself\u001b[0m\u001b[0;34m.\u001b[0m\u001b[0mn_outputs_\u001b[0m \u001b[0;34m==\u001b[0m \u001b[0;36m1\u001b[0m\u001b[0;34m:\u001b[0m\u001b[0;34m\u001b[0m\u001b[0m\n",
        "\u001b[0;31mKeyboardInterrupt\u001b[0m: "
       ]
      }
     ],
     "prompt_number": 69
    },
    {
     "cell_type": "code",
     "collapsed": false,
     "input": [
      "scrs_forest = cross_val_score(higgs_rf, x, y, scoring=ams)"
     ],
     "language": "python",
     "metadata": {},
     "outputs": []
    },
    {
     "cell_type": "code",
     "collapsed": false,
     "input": [
      "higgs_random = DummyClassifier(strategy='uniform')\n",
      "higgs_random.fit(x, y)\n",
      "scrs_rand = cross_val_score(higgs_random, x, y, scoring='')"
     ],
     "language": "python",
     "metadata": {},
     "outputs": [
      {
       "ename": "ValueError",
       "evalue": "'ams' is not a valid scoring value. Valid options are ['accuracy', 'adjusted_rand_score', 'average_precision', 'f1', 'log_loss', 'mean_absolute_error', 'mean_squared_error', 'precision', 'r2', 'recall', 'roc_auc']",
       "output_type": "pyerr",
       "traceback": [
        "\u001b[0;31m---------------------------------------------------------------------------\u001b[0m\n\u001b[0;31mValueError\u001b[0m                                Traceback (most recent call last)",
        "\u001b[0;32m<ipython-input-62-1b34a21dc09f>\u001b[0m in \u001b[0;36m<module>\u001b[0;34m()\u001b[0m\n\u001b[1;32m      1\u001b[0m \u001b[0mhiggs_random\u001b[0m \u001b[0;34m=\u001b[0m \u001b[0mDummyClassifier\u001b[0m\u001b[0;34m(\u001b[0m\u001b[0mstrategy\u001b[0m\u001b[0;34m=\u001b[0m\u001b[0;34m'uniform'\u001b[0m\u001b[0;34m)\u001b[0m\u001b[0;34m\u001b[0m\u001b[0m\n\u001b[1;32m      2\u001b[0m \u001b[0mhiggs_random\u001b[0m\u001b[0;34m.\u001b[0m\u001b[0mfit\u001b[0m\u001b[0;34m(\u001b[0m\u001b[0mx\u001b[0m\u001b[0;34m,\u001b[0m \u001b[0my\u001b[0m\u001b[0;34m)\u001b[0m\u001b[0;34m\u001b[0m\u001b[0m\n\u001b[0;32m----> 3\u001b[0;31m \u001b[0mscrs_rand\u001b[0m \u001b[0;34m=\u001b[0m \u001b[0mcross_val_score\u001b[0m\u001b[0;34m(\u001b[0m\u001b[0mhiggs_random\u001b[0m\u001b[0;34m,\u001b[0m \u001b[0mx\u001b[0m\u001b[0;34m,\u001b[0m \u001b[0my\u001b[0m\u001b[0;34m,\u001b[0m \u001b[0mscoring\u001b[0m\u001b[0;34m=\u001b[0m\u001b[0;34m'ams'\u001b[0m\u001b[0;34m)\u001b[0m\u001b[0;34m\u001b[0m\u001b[0m\n\u001b[0m",
        "\u001b[0;32m/Library/Python/2.7/site-packages/sklearn/cross_validation.pyc\u001b[0m in \u001b[0;36mcross_val_score\u001b[0;34m(estimator, X, y, scoring, cv, n_jobs, verbose, fit_params, score_func, pre_dispatch)\u001b[0m\n\u001b[1;32m   1141\u001b[0m \u001b[0;34m\u001b[0m\u001b[0m\n\u001b[1;32m   1142\u001b[0m     \u001b[0mcv\u001b[0m \u001b[0;34m=\u001b[0m \u001b[0m_check_cv\u001b[0m\u001b[0;34m(\u001b[0m\u001b[0mcv\u001b[0m\u001b[0;34m,\u001b[0m \u001b[0mX\u001b[0m\u001b[0;34m,\u001b[0m \u001b[0my\u001b[0m\u001b[0;34m,\u001b[0m \u001b[0mclassifier\u001b[0m\u001b[0;34m=\u001b[0m\u001b[0mis_classifier\u001b[0m\u001b[0;34m(\u001b[0m\u001b[0mestimator\u001b[0m\u001b[0;34m)\u001b[0m\u001b[0;34m)\u001b[0m\u001b[0;34m\u001b[0m\u001b[0m\n\u001b[0;32m-> 1143\u001b[0;31m     \u001b[0mscorer\u001b[0m \u001b[0;34m=\u001b[0m \u001b[0mcheck_scoring\u001b[0m\u001b[0;34m(\u001b[0m\u001b[0mestimator\u001b[0m\u001b[0;34m,\u001b[0m \u001b[0mscore_func\u001b[0m\u001b[0;34m=\u001b[0m\u001b[0mscore_func\u001b[0m\u001b[0;34m,\u001b[0m \u001b[0mscoring\u001b[0m\u001b[0;34m=\u001b[0m\u001b[0mscoring\u001b[0m\u001b[0;34m)\u001b[0m\u001b[0;34m\u001b[0m\u001b[0m\n\u001b[0m\u001b[1;32m   1144\u001b[0m     \u001b[0;31m# We clone the estimator to make sure that all the folds are\u001b[0m\u001b[0;34m\u001b[0m\u001b[0;34m\u001b[0m\u001b[0m\n\u001b[1;32m   1145\u001b[0m     \u001b[0;31m# independent, and that it is pickle-able.\u001b[0m\u001b[0;34m\u001b[0m\u001b[0;34m\u001b[0m\u001b[0m\n",
        "\u001b[0;32m/Library/Python/2.7/site-packages/sklearn/metrics/scorer.pyc\u001b[0m in \u001b[0;36mcheck_scoring\u001b[0;34m(estimator, scoring, allow_none, loss_func, score_func, score_overrides_loss)\u001b[0m\n\u001b[1;32m    227\u001b[0m                     \u001b[0mscorer\u001b[0m \u001b[0;34m=\u001b[0m \u001b[0mmake_scorer\u001b[0m\u001b[0;34m(\u001b[0m\u001b[0mscore_func\u001b[0m\u001b[0;34m)\u001b[0m\u001b[0;34m\u001b[0m\u001b[0m\n\u001b[1;32m    228\u001b[0m         \u001b[0;32melse\u001b[0m\u001b[0;34m:\u001b[0m\u001b[0;34m\u001b[0m\u001b[0m\n\u001b[0;32m--> 229\u001b[0;31m             \u001b[0mscorer\u001b[0m \u001b[0;34m=\u001b[0m \u001b[0mget_scorer\u001b[0m\u001b[0;34m(\u001b[0m\u001b[0mscoring\u001b[0m\u001b[0;34m)\u001b[0m\u001b[0;34m\u001b[0m\u001b[0m\n\u001b[0m\u001b[1;32m    230\u001b[0m         \u001b[0;32mreturn\u001b[0m \u001b[0mscorer\u001b[0m\u001b[0;34m\u001b[0m\u001b[0m\n\u001b[1;32m    231\u001b[0m     \u001b[0;32melif\u001b[0m \u001b[0mhasattr\u001b[0m\u001b[0;34m(\u001b[0m\u001b[0mestimator\u001b[0m\u001b[0;34m,\u001b[0m \u001b[0;34m'score'\u001b[0m\u001b[0;34m)\u001b[0m\u001b[0;34m:\u001b[0m\u001b[0;34m\u001b[0m\u001b[0m\n",
        "\u001b[0;32m/Library/Python/2.7/site-packages/sklearn/metrics/scorer.pyc\u001b[0m in \u001b[0;36mget_scorer\u001b[0;34m(scoring)\u001b[0m\n\u001b[1;32m    166\u001b[0m             raise ValueError('%r is not a valid scoring value. '\n\u001b[1;32m    167\u001b[0m                              \u001b[0;34m'Valid options are %s'\u001b[0m\u001b[0;34m\u001b[0m\u001b[0m\n\u001b[0;32m--> 168\u001b[0;31m                              % (scoring, sorted(SCORERS.keys())))\n\u001b[0m\u001b[1;32m    169\u001b[0m     \u001b[0;32melse\u001b[0m\u001b[0;34m:\u001b[0m\u001b[0;34m\u001b[0m\u001b[0m\n\u001b[1;32m    170\u001b[0m         \u001b[0mscorer\u001b[0m \u001b[0;34m=\u001b[0m \u001b[0mscoring\u001b[0m\u001b[0;34m\u001b[0m\u001b[0m\n",
        "\u001b[0;31mValueError\u001b[0m: 'ams' is not a valid scoring value. Valid options are ['accuracy', 'adjusted_rand_score', 'average_precision', 'f1', 'log_loss', 'mean_absolute_error', 'mean_squared_error', 'precision', 'r2', 'recall', 'roc_auc']"
       ]
      }
     ],
     "prompt_number": 62
    },
    {
     "cell_type": "code",
     "collapsed": false,
     "input": [
      "np.mean(scrs_)\n",
      "scrs_rand"
     ],
     "language": "python",
     "metadata": {},
     "outputs": [
      {
       "metadata": {},
       "output_type": "pyout",
       "prompt_number": 42,
       "text": [
        "array([ 0.5,  0.5,  0.5])"
       ]
      }
     ],
     "prompt_number": 42
    },
    {
     "cell_type": "code",
     "collapsed": false,
     "input": [
      "def ams(s, b):\n",
      "    return math.sqrt(2 * ((s + b + 10) * math.log(1.0 + s/(b + 10)) - s))"
     ],
     "language": "python",
     "metadata": {},
     "outputs": [],
     "prompt_number": 43
    },
    {
     "cell_type": "code",
     "collapsed": false,
     "input": [
      "train.corr().ix['Weight'].order()"
     ],
     "language": "python",
     "metadata": {},
     "outputs": [
      {
       "metadata": {},
       "output_type": "pyout",
       "prompt_number": 51,
       "text": [
        "PRI_jet_leading_pt            -0.511838\n",
        "PRI_jet_leading_eta           -0.502730\n",
        "PRI_jet_leading_phi           -0.502727\n",
        "PRI_jet_num                   -0.494702\n",
        "DER_met_phi_centrality        -0.472163\n",
        "PRI_met_sumet                 -0.427235\n",
        "PRI_jet_all_pt                -0.419934\n",
        "DER_sum_pt                    -0.414827\n",
        "DER_pt_h                      -0.414084\n",
        "PRI_jet_subleading_pt         -0.395909\n",
        "DER_deltaeta_jet_jet          -0.395375\n",
        "DER_lep_eta_centrality        -0.395273\n",
        "PRI_jet_subleading_eta        -0.395245\n",
        "PRI_jet_subleading_phi        -0.395244\n",
        "DER_prodeta_jet_jet           -0.395004\n",
        "DER_mass_jet_jet              -0.394004\n",
        "DER_mass_MMC                  -0.327244\n",
        "PRI_tau_pt                    -0.284649\n",
        "DER_pt_tot                    -0.219507\n",
        "PRI_met                       -0.116031\n",
        "PRI_lep_pt                    -0.020769\n",
        "PRI_lep_eta                   -0.019407\n",
        "PRI_met_phi                   -0.009315\n",
        "PRI_tau_eta                   -0.005647\n",
        "EventId                       -0.002838\n",
        "PRI_lep_phi                   -0.002239\n",
        "PRI_tau_phi                    0.003224\n",
        "DER_mass_vis                   0.102172\n",
        "DER_pt_ratio_lep_tau           0.188398\n",
        "DER_deltar_tau_lep             0.197881\n",
        "DER_mass_transverse_met_lep    0.419843\n",
        "Weight                         1.000000\n",
        "Name: Weight, dtype: float64"
       ]
      }
     ],
     "prompt_number": 51
    },
    {
     "cell_type": "code",
     "collapsed": false,
     "input": [
      "train.columns"
     ],
     "language": "python",
     "metadata": {},
     "outputs": [
      {
       "metadata": {},
       "output_type": "pyout",
       "prompt_number": 46,
       "text": [
        "Index([u'EventId', u'DER_mass_MMC', u'DER_mass_transverse_met_lep', u'DER_mass_vis', u'DER_pt_h', u'DER_deltaeta_jet_jet', u'DER_mass_jet_jet', u'DER_prodeta_jet_jet', u'DER_deltar_tau_lep', u'DER_pt_tot', u'DER_sum_pt', u'DER_pt_ratio_lep_tau', u'DER_met_phi_centrality', u'DER_lep_eta_centrality', u'PRI_tau_pt', u'PRI_tau_eta', u'PRI_tau_phi', u'PRI_lep_pt', u'PRI_lep_eta', u'PRI_lep_phi', u'PRI_met', u'PRI_met_phi', u'PRI_met_sumet', u'PRI_jet_num', u'PRI_jet_leading_pt', u'PRI_jet_leading_eta', u'PRI_jet_leading_phi', u'PRI_jet_subleading_pt', u'PRI_jet_subleading_eta', u'PRI_jet_subleading_phi', u'PRI_jet_all_pt', u'Weight', u'Label'], dtype='object')"
       ]
      }
     ],
     "prompt_number": 46
    },
    {
     "cell_type": "code",
     "collapsed": false,
     "input": [
      "s_weigh = train[train.Label == 's']['Weight']\n",
      "b_weigh = train[train.Label == 'b']['Weight']"
     ],
     "language": "python",
     "metadata": {},
     "outputs": [],
     "prompt_number": 58
    },
    {
     "cell_type": "code",
     "collapsed": false,
     "input": [
      "s_weigh.describe()"
     ],
     "language": "python",
     "metadata": {},
     "outputs": [
      {
       "metadata": {},
       "output_type": "pyout",
       "prompt_number": 59,
       "text": [
        "count    85667.000000\n",
        "mean         0.008078\n",
        "std          0.008231\n",
        "min          0.001502\n",
        "25%          0.001503\n",
        "50%          0.001503\n",
        "75%          0.018636\n",
        "max          0.018636\n",
        "Name: Weight, dtype: float64"
       ]
      }
     ],
     "prompt_number": 59
    },
    {
     "cell_type": "code",
     "collapsed": false,
     "input": [
      "b_weigh.describe()"
     ],
     "language": "python",
     "metadata": {},
     "outputs": [
      {
       "metadata": {},
       "output_type": "pyout",
       "prompt_number": 60,
       "text": [
        "count    164333.000000\n",
        "mean          2.501018\n",
        "std           1.794235\n",
        "min           0.064061\n",
        "25%           1.340468\n",
        "50%           2.080362\n",
        "75%           4.353313\n",
        "max           7.822543\n",
        "Name: Weight, dtype: float64"
       ]
      }
     ],
     "prompt_number": 60
    },
    {
     "cell_type": "code",
     "collapsed": false,
     "input": [],
     "language": "python",
     "metadata": {},
     "outputs": []
    }
   ],
   "metadata": {}
  }
 ]
}